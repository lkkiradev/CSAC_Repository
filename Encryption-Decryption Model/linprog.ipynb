{
 "cells": [
  {
   "cell_type": "markdown",
   "metadata": {},
   "source": [
    "# Linear Programming\n",
    "\n",
    "This code uses graphical method which solves for the intercepts, feasible region, intersecting points, and optimal solution for maximization.\n",
    "\n",
    "Minimum requirement: input validation\n",
    "\n",
    "#### Created by:\n",
    "- Carrillo, Charlot Andrea\n",
    "- Barcelona, Manuel Marc\n",
    "- Castro, Lorens\n",
    "- Dellupac, Yohan\n",
    "- Francisco, Maxell June\n",
    "- Serrano, Emman"
   ]
  },
  {
   "cell_type": "markdown",
   "metadata": {},
   "source": [
    "### 1. Import necessary packages\n",
    "- matplotlib for plotting the x and y intercepts, points\n",
    "- linprog will be our solver for linear programming\n",
    "- pandas for creating data frames (x and y table)\n",
    "- numpy for algebra, operations, etc\n",
    "\n"
   ]
  },
  {
   "cell_type": "code",
   "execution_count": 1,
   "metadata": {},
   "outputs": [],
   "source": [
    "import numpy as np\n",
    "import matplotlib.pyplot as plt\n",
    "from scipy.optimize import linprog\n",
    "import pandas as pd"
   ]
  },
  {
   "cell_type": "markdown",
   "metadata": {},
   "source": [
    "### 2. Input validation function for integer"
   ]
  },
  {
   "cell_type": "code",
   "execution_count": 2,
   "metadata": {},
   "outputs": [],
   "source": [
    "def get_input(x):\n",
    "    while True:\n",
    "        try:\n",
    "            value = int(input(x))\n",
    "            return value\n",
    "        except ValueError:\n",
    "            print(\"Invalid input. Please enter an integer.\")\n"
   ]
  },
  {
   "cell_type": "markdown",
   "metadata": {},
   "source": [
    "### 3. Input validation function for float"
   ]
  },
  {
   "cell_type": "code",
   "execution_count": 3,
   "metadata": {},
   "outputs": [],
   "source": [
    "def get_input2(x):\n",
    "    while True:\n",
    "        try:\n",
    "            value = float(input(x))\n",
    "            return value\n",
    "        except ValueError:\n",
    "            print(\"Invalid input. Please enter an integer.\")"
   ]
  },
  {
   "cell_type": "markdown",
   "metadata": {},
   "source": [
    "### 4. Getting the coefficients for the objective function"
   ]
  },
  {
   "cell_type": "code",
   "execution_count": 4,
   "metadata": {},
   "outputs": [
    {
     "name": "stdout",
     "output_type": "stream",
     "text": [
      "[-90.0, -180.0]\n"
     ]
    }
   ],
   "source": [
    "obj_func_coef1 = get_input2(\"Enter 1st coefficient for the objective function (X1): \")\n",
    "obj_func_coef2 = get_input2(\"Enter 2nd coefficient for the objective function (X2): \")\n",
    "\n",
    "obj_func_coefs = [-(obj_func_coef1), -(obj_func_coef2)]\n",
    "print(obj_func_coefs)"
   ]
  },
  {
   "cell_type": "markdown",
   "metadata": {},
   "source": [
    "### 5. Getting the number of constraints"
   ]
  },
  {
   "cell_type": "code",
   "execution_count": 5,
   "metadata": {},
   "outputs": [
    {
     "name": "stdout",
     "output_type": "stream",
     "text": [
      "Number of constraint equations: 2\n"
     ]
    }
   ],
   "source": [
    "while True:\n",
    "    try:\n",
    "        num_func = get_input(input(\"Enter the number of constraint equations: \"))\n",
    "        if num_func <= 1 or num_func > 2:\n",
    "            print(\"Limit reached/not reached. Enter 2.\")\n",
    "            continue\n",
    "        break\n",
    "    except ValueError:\n",
    "        print(\"Invalid input. Please enter an integer.\")\n",
    "    \n",
    "constraints = [[] for _ in range(num_func)]\n",
    "right_hand_values = []\n",
    "\n",
    "print(f\"Number of constraint equations: {num_func}\")"
   ]
  },
  {
   "cell_type": "markdown",
   "metadata": {},
   "source": [
    "### 6. Getting the labels for each constraint equations"
   ]
  },
  {
   "cell_type": "code",
   "execution_count": 6,
   "metadata": {},
   "outputs": [
    {
     "name": "stdout",
     "output_type": "stream",
     "text": [
      "Label 1: Time\n",
      "Label 2: Cost\n"
     ]
    }
   ],
   "source": [
    "constraint_names = []\n",
    "for i in range(num_func):\n",
    "    while True:\n",
    "        try:\n",
    "            constraint_label = str(input(f\"Enter the label for constraint {i+1}: \"))\n",
    "            constraint_names.append(constraint_label)\n",
    "            break\n",
    "        except ValueError:\n",
    "            print(\"Invalid input. Please enter a string.\")\n",
    "            \n",
    "            \n",
    "for idx, label in enumerate(constraint_names):\n",
    "    print(f\"Label {idx + 1}: {label}\")"
   ]
  },
  {
   "cell_type": "markdown",
   "metadata": {},
   "source": [
    "### 7. Getting the coefficients for each constraint equations"
   ]
  },
  {
   "cell_type": "code",
   "execution_count": 7,
   "metadata": {},
   "outputs": [
    {
     "name": "stdout",
     "output_type": "stream",
     "text": [
      "Coefficients for the inequality constraints:\n",
      "Time coefficients: [2.0, 5.0] <= 40\n",
      "Cost coefficients: [15.0, 45.0] <= 315\n"
     ]
    }
   ],
   "source": [
    "\n",
    "for i in range(num_func):\n",
    "        while True:\n",
    "            try:\n",
    "                num_coefficients = get_input(f\"How many coefficients for {constraint_names[i]}? \")\n",
    "                break\n",
    "            except ValueError:\n",
    "                print(\"Invalid input. Please enter an integer.\")\n",
    "\n",
    "        for j in range(num_coefficients):\n",
    "            while True:\n",
    "                try:\n",
    "                    value = float(input(f\"Enter coefficient {j + 1} for {constraint_names[i]}: \"))\n",
    "                    constraints[i].append(value)\n",
    "                    break\n",
    "                except ValueError:\n",
    "                    print(\"Invalid input. Please enter a numeric value.\")\n",
    "                    \n",
    "        right = int(input(f\"Enter right hand value for inequality {constraint_names[i]}: \"))\n",
    "        right_hand_values.append(right)\n",
    "\n",
    "print(\"Coefficients for the inequality constraints:\")\n",
    "for idx, constraint in enumerate(constraints):\n",
    "    print(f\"{constraint_names[idx]} coefficients: {constraint} <= {right_hand_values[idx]}\")\n"
   ]
  },
  {
   "cell_type": "markdown",
   "metadata": {},
   "source": [
    "### 8. Functions for calculating intersections, coordinates, and feasible region"
   ]
  },
  {
   "cell_type": "code",
   "execution_count": 8,
   "metadata": {},
   "outputs": [
    {
     "name": "stdout",
     "output_type": "stream",
     "text": [
      "Intercepts:\n",
      "Intercept 1: (x, y) = (20.00, 0.00)\n",
      "Intercept 2: (x, y) = (0.00, 8.00)\n",
      "Intercept 3: (x, y) = (21.00, 0.00)\n",
      "Intercept 4: (x, y) = (0.00, 7.00)\n",
      "Intersecting points:  (15.0, 2.0)\n",
      "\n",
      "Feasible vertices of the region:\n",
      "Feasible Point 1: (x, y) = (20.00, 0.00)\n",
      "Feasible Point 2: (x, y) = (0.00, 7.00)\n"
     ]
    }
   ],
   "source": [
    "def calculate_intersection(constraint1, right1, constraint2, right2):\n",
    "    a1, b1 = constraint1\n",
    "    a2, b2 = constraint2\n",
    "    \n",
    "    denom = a1 * b2 - a2 * b1\n",
    "    if denom == 0:\n",
    "        print(\"The lines are parallel and do not intersect.\")\n",
    "        return None\n",
    "    \n",
    "    x = (b2 * right1 - b1 * right2) / denom\n",
    "    y = (a1 * right2 - a2 * right1) / denom\n",
    "    \n",
    "    return (x, y)\n",
    "\n",
    "def calculate_intercepts(constraint, right):\n",
    "    a, b = constraint\n",
    "    \n",
    "    #a = x, b = y\n",
    "    #calculation for x intercept\n",
    "    if a != 0:\n",
    "        x_intercept = right / a\n",
    "    else:\n",
    "        x_intercept = float('inf') #if a = 0, then that means there is no x (minimum coef is 1)\n",
    "\n",
    "    #calculation for y intercept (x = 0)\n",
    "    if b != 0:\n",
    "        y_intercept = right / b\n",
    "    else:\n",
    "        y_intercept = float('inf')  #if b = 0, then that means there is no y (minimum coef is 1)\n",
    "\n",
    "    return (x_intercept, 0), (0, y_intercept)\n",
    "\n",
    "vertices = []\n",
    "\n",
    "for i in range(num_func):\n",
    "    x, y = calculate_intercepts(constraints[i], right_hand_values[i])\n",
    "    vertices.append(x)\n",
    "    vertices.append(y)\n",
    "\n",
    "def is_feasible(point):\n",
    "    x, y = point\n",
    "    for i in range(num_func):\n",
    "        a, b = constraints[i]\n",
    "        if a * x + b * y > right_hand_values[i]:  # Check if point is within the inequality\n",
    "            return False\n",
    "    return True\n",
    "\n",
    "feasible_points = [point for point in vertices if is_feasible(point)]\n",
    "\n",
    "print(\"Intercepts:\")\n",
    "for idx, (x, y) in enumerate(vertices):\n",
    "    print(f\"Intercept {idx + 1}: (x, y) = ({x:.2f}, {y:.2f})\")\n",
    "    \n",
    "for i in range(num_func):\n",
    "    for j in range(i + 1, num_func):\n",
    "        intersection = calculate_intersection(constraints[i], right_hand_values[i], constraints[j], right_hand_values[j])\n",
    "        if intersection:\n",
    "            vertices.append(intersection)\n",
    "            print(\"Intersecting points: \", intersection)\n",
    "    \n",
    "print(\"\\nFeasible vertices of the region:\")\n",
    "if feasible_points:\n",
    "    for idx, (x, y) in enumerate(feasible_points):\n",
    "        print(f\"Feasible Point {idx + 1}: (x, y) = ({x:.2f}, {y:.2f})\")\n",
    "else:\n",
    "    print(\"No feasible points found.\")\n",
    "    \n",
    "data = []\n",
    "for x1, x2 in feasible_points:\n",
    "    z = obj_func_coef1 * x1 + obj_func_coef2 * x2\n",
    "    data.append((x1, x2, z))"
   ]
  },
  {
   "cell_type": "markdown",
   "metadata": {},
   "source": [
    "### 9. Linear Programming function"
   ]
  },
  {
   "cell_type": "code",
   "execution_count": 9,
   "metadata": {},
   "outputs": [],
   "source": [
    "\n",
    "# Bounds for x and y (non-negativity constraints)\n",
    "x0_bounds = (0, None)  \n",
    "x1_bounds = (0, None)\n",
    "\n",
    "# Solve the linear programming problem\n",
    "result = linprog(obj_func_coefs, A_ub=constraints, b_ub=right_hand_values, bounds=[x0_bounds, x1_bounds], method='highs')\n",
    "\n",
    "# Optimal values for X1 and X2\n",
    "optimal_x1 = result.x[0]\n",
    "optimal_x2 = result.x[1]\n",
    "z = -result.fun\n"
   ]
  },
  {
   "cell_type": "markdown",
   "metadata": {},
   "source": [
    "### 10. Displaying x, y, and z table using data frame"
   ]
  },
  {
   "cell_type": "code",
   "execution_count": 10,
   "metadata": {},
   "outputs": [
    {
     "name": "stdout",
     "output_type": "stream",
     "text": [
      "Optimal X1, X2, Z Values:\n",
      "   (X1)  (X2)       Z\n",
      "0  20.0   0.0  1800.0\n",
      "1   0.0   7.0  1260.0\n",
      "\n",
      "Optimal number of X1: 20.0\n",
      "Optimal number of X2: 0.0\n",
      "Maximized Z:  1800.0\n"
     ]
    }
   ],
   "source": [
    "df = pd.DataFrame(data, columns=['(X1)', '(X2)', 'Z'])\n",
    "print(\"Optimal X1, X2, Z Values:\")\n",
    "print(df)\n",
    "print(\"\\nOptimal number of X1:\", optimal_x1)\n",
    "print(\"Optimal number of X2:\", optimal_x2)\n",
    "print(\"Maximized Z: \", z)\n",
    "\n"
   ]
  },
  {
   "cell_type": "markdown",
   "metadata": {},
   "source": [
    "### 11. Graphing the optimal solution"
   ]
  },
  {
   "cell_type": "code",
   "execution_count": 11,
   "metadata": {},
   "outputs": [
    {
     "data": {
      "image/png": "[encoded data removed]",
      "text/plain": [
       "<Figure size 1000x800 with 1 Axes>"
      ]
     },
     "metadata": {},
     "output_type": "display_data"
    }
   ],
   "source": [
    "plt.figure(figsize=(10, 8))\n",
    "\n",
    "x = np.linspace(0, 80, 200)\n",
    "\n",
    "# Inequality constraint 1: C1 * X1 + C2 * X2 <= Right_hand_value1\n",
    "plt.plot(x, (right_hand_values[0] - constraints[0][0] * x) / constraints[0][1],\n",
    "         label=f'{constraints[0][0]}X_1 + {constraints[0][1]}X_2 ≤ {right_hand_values[0]}', color='blue')\n",
    "\n",
    "# Inequality constraint 2: C1 * X1 + C2 * X2 <= Right_hand_value2\n",
    "plt.plot(x, (right_hand_values[1] - constraints[1][0] * x) / constraints[1][1],\n",
    "         label=f'{constraints[1][0]}X_1 + {constraints[1][1]}X_2 ≤ {right_hand_values[1]}', color='orange')\n",
    "\n",
    "# Feasible region\n",
    "y1 = (right_hand_values[0] - constraints[0][0] * x) / constraints[0][1]\n",
    "y2 = (right_hand_values[1] - constraints[1][0] * x) / constraints[1][1]\n",
    "plt.fill_between(x, np.minimum(y1, y2), where=(x >= 0) & (np.minimum(y1, y2) >= 0), \n",
    "                 color='lightgreen', alpha=0.5)\n",
    "\n",
    "plt.plot((optimal_x1), (optimal_x2), 'ro', label=f'Optimal Solution ({(optimal_x1)}, {(optimal_x2)})')\n",
    "\n",
    "plt.annotate(f'Optimal ({optimal_x1}, {optimal_x2})', \n",
    "             xy=(optimal_x1, optimal_x2), \n",
    "             xytext=(optimal_x1 + 1, optimal_x2 + 1),  \n",
    "             arrowprops=dict(arrowstyle='->', color='red'),\n",
    "             fontsize=10, color='red')\n",
    "\n",
    "\n",
    "for idx, (x, y) in enumerate(vertices):\n",
    "    plt.plot(x, y, 'go', label=f'Intercept {idx + 1} ({x:.2f}, {y:.2f})')  \n",
    "    plt.annotate(f'({x:.2f}, {y:.2f})', xy=(x, y), \n",
    "                 xytext=(x + 2, y + 2), \n",
    "                 arrowprops=dict(arrowstyle='->', color='green'),\n",
    "                 fontsize=10, color='green')\n",
    "\n",
    "plt.xlim(0, 100)\n",
    "plt.ylim(0, 100)\n",
    "plt.xlabel('X1')\n",
    "plt.ylabel('X2')\n",
    "plt.title('Linear Programming Plot: Optimal Solution (Maximization)')\n",
    "plt.axhline(0, color='black', linewidth=0.5, ls='--')\n",
    "plt.axvline(0, color='black', linewidth=0.5, ls='--')\n",
    "plt.grid()\n",
    "plt.legend()\n",
    "\n",
    "plt.show()"
   ]
  }
 ],
 "metadata": {
  "kernelspec": {
   "display_name": "Python 3",
   "language": "python",
   "name": "python3"
  },
  "language_info": {
   "codemirror_mode": {
    "name": "ipython",
    "version": 3
   },
   "file_extension": ".py",
   "mimetype": "text/x-python",
   "name": "python",
   "nbconvert_exporter": "python",
   "pygments_lexer": "ipython3",
   "version": "3.12.6"
  }
 },
 "nbformat": 4,
 "nbformat_minor": 2
}
